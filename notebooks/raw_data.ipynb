{
 "cells": [
  {
   "cell_type": "code",
   "execution_count": 36,
   "metadata": {},
   "outputs": [
    {
     "name": "stdout",
     "output_type": "stream",
     "text": [
      "Global coins data:\n",
      "\n",
      "{'tag': 'BCH', 'block_time': 630.0, 'block_reward_btc': 0.010710572654957309, 'difficulty': 372691227035.65, 'nethash': 2540788304165441269, 'daily_emissions_btc': 1.4688785355370022, 'algorithm': 'SHA-256'}\n",
      "{'tag': 'BTC', 'block_time': 651.0, 'block_reward_btc': 3.1561542979999997, 'difficulty': 108105433845147.0, 'nethash': 713224735614128878648, 'daily_emissions_btc': 418.8813077529954, 'algorithm': 'SHA-256'}\n",
      "{'tag': 'DOGE', 'block_time': 63.0, 'block_reward_btc': 0.02718, 'difficulty': 39457219.81731997, 'nethash': 2689959820737655, 'daily_emissions_btc': 37.27542857142857, 'algorithm': 'Scrypt'}\n",
      "{'tag': 'KAS', 'block_time': 1.0004, 'block_reward_btc': 6.602872024910351e-05, 'difficulty': 313136175.4059518, 'nethash': 1344371883809558176, 'daily_emissions_btc': 5.702600389366796, 'algorithm': 'kHeavyHash'}\n",
      "{'tag': 'LTC', 'block_time': 150.0, 'block_reward_btc': 0.006738125, 'difficulty': 74389147.7639597, 'nethash': 2129993045490122, 'daily_emissions_btc': 3.88116, 'algorithm': 'Scrypt'}\n",
      "{'tag': 'RVN', 'block_time': 60.0, 'block_reward_btc': 0.00038482720420839755, 'difficulty': 99490.41580763974, 'nethash': 7121801369320, 'daily_emissions_btc': 0.5541511740600925, 'algorithm': 'KawPow'}\n"
     ]
    }
   ],
   "source": [
    "import requests, json\n",
    "from dataclasses import dataclass, asdict\n",
    "\n",
    "coins = { \"BTC\", \"BCH\", \"DOGE\", \"LTC\", \"KAS\", \"RVN\"}\n",
    "api_token = \"8a0b92957b57d4eea9cdf73c4d7436c09c82a38865b84e5b2304b7b5a0202b92\"\n",
    "coins_endpoint = f\"https://whattomine.com/api/v1/coins?api_token={api_token}\"\n",
    "json = requests.get(coins_endpoint).json()\n",
    "\n",
    "@dataclass\n",
    "class WhatToMineData:\n",
    "    tag: str = \"\"\n",
    "    block_time: float = 0\n",
    "    block_reward_btc: float = 0\n",
    "    difficulty: float = 0\n",
    "    nethash: float = 0\n",
    "    daily_emissions_btc: float = 0\n",
    "    algorithm: str = \"\"\n",
    "\n",
    "def toWhatToMineData(json):\n",
    "    data = WhatToMineData()\n",
    "    data.tag = json['tag']\n",
    "    data.block_time = float(json['block_time'])\n",
    "    exchange_rate_btc = 1 if data.tag == \"BTC\" else json['exchanges'][0]['price']\n",
    "    data.block_reward_btc = json['block_reward'] * exchange_rate_btc\n",
    "    data.difficulty = json['difficulty']\n",
    "    data.nethash = json['nethash']\n",
    "    data.daily_emissions_btc = 86400 / data.block_time * data.block_reward_btc\n",
    "    data.algorithm = json['algorithm']\n",
    "    return data\n",
    "\n",
    "coins_data = [ toWhatToMineData(coin) for coin in json if coin['tag'] in coins ]\n",
    "print(\"Global coins data:\\n\")\n",
    "for coin_data in coins_data:\n",
    "    print(asdict(coin_data))\n"
   ]
  },
  {
   "cell_type": "code",
   "execution_count": 37,
   "metadata": {},
   "outputs": [
    {
     "name": "stdout",
     "output_type": "stream",
     "text": [
      "Nicehash data:\n",
      "\n"
     ]
    },
    {
     "data": {
      "text/plain": [
       "{'SCRYPT': {'hashrate': 112.7946190438,\n",
       "  'hashrate unit': 'TH/s',\n",
       "  'paying': 0.0168254991,\n",
       "  'paying unit': 'BTC/TH/day',\n",
       "  'daily_consumption_capacity': 1.8978257653,\n",
       "  'daily_consumption_capacity unit': 'BTC/day'},\n",
       " 'SHA256ASICBOOST': {'hashrate': 6.6853179358,\n",
       "  'hashrate unit': 'EH/s',\n",
       "  'paying': 0.569080555,\n",
       "  'paying unit': 'BTC/EH/day',\n",
       "  'daily_consumption_capacity': 3.804484441,\n",
       "  'daily_consumption_capacity unit': 'BTC/day'},\n",
       " 'KAWPOW': {'hashrate': 0.8824737322,\n",
       "  'hashrate unit': 'TH/s',\n",
       "  'paying': 0.0841279322,\n",
       "  'paying unit': 'BTC/TH/day',\n",
       "  'daily_consumption_capacity': 0.0742406903,\n",
       "  'daily_consumption_capacity unit': 'BTC/day'},\n",
       " 'KHEAVYHASH': {'hashrate': 54.2565007842,\n",
       "  'hashrate unit': 'PH/s',\n",
       "  'paying': 0.0041252307,\n",
       "  'paying unit': 'BTC/PH/day',\n",
       "  'daily_consumption_capacity': 0.2238205807,\n",
       "  'daily_consumption_capacity unit': 'BTC/day'}}"
      ]
     },
     "execution_count": 37,
     "metadata": {},
     "output_type": "execute_result"
    }
   ],
   "source": [
    "import requests, json\n",
    "import pandas as pd\n",
    "\n",
    "algorithms = { \"SCRYPT\", \"SHA256ASICBOOST\", \"KHEAVYHASH\", \"KAWPOW\"}\n",
    "\n",
    "multialgo_response = requests.get('https://api2.nicehash.com/main/api/v2/public/simplemultialgo/info')\n",
    "multialgo_data = multialgo_response.json()\n",
    "algo_data = { element['algorithm']: {'paying': element['paying'], 'speed': element['speed']} for element in multialgo_data['miningAlgorithms'] if element['algorithm'] in algorithms }\n",
    "\n",
    "algorithms_response = requests.get('https://api2.nicehash.com/main/api/v2/mining/algorithms')\n",
    "algorithms_response.raise_for_status()\n",
    "algorithms_data = algorithms_response.json()\n",
    "\n",
    "index = [ element['algorithm'] for element in algorithms_data['miningAlgorithms'] if element['algorithm'] in algorithms ]\n",
    "columns = ['marketFactor', 'displayMarketFactor', 'priceFactor', 'displayPriceFactor', 'miningFactor', 'displayMiningFactor', 'priceDownStep', 'paying', 'speed']\n",
    "data = [ [ float(element['marketFactor']), element['displayMarketFactor'], float(element['priceFactor']), element['displayPriceFactor'], float(element['miningFactor']), element['displayMiningFactor'], float(element['priceDownStep']), algo_data[element['algorithm']]['paying'], algo_data[element['algorithm']]['speed'] ] for element in algorithms_data['miningAlgorithms'] if element['algorithm'] in algorithms ]\n",
    "\n",
    "raw_data_df = pd.DataFrame(data, index=index, columns=columns)\n",
    "\n",
    "calc_df = pd.DataFrame(index=index)\n",
    "sats2btc = 1e8\n",
    "\n",
    "calc_df['hashrate'] = raw_data_df['speed'] / raw_data_df['marketFactor'] * raw_data_df['miningFactor']\n",
    "calc_df['hashrate unit'] = raw_data_df['displayMarketFactor'] + '/s'\n",
    "\n",
    "calc_df['paying'] = raw_data_df['paying'] * raw_data_df['priceFactor'] / sats2btc\n",
    "calc_df['paying unit'] = 'BTC/' + raw_data_df['displayPriceFactor'] + '/day'\n",
    "\n",
    "calc_df['daily_consumption_capacity'] = calc_df['hashrate'] * calc_df['paying']\n",
    "calc_df['daily_consumption_capacity unit'] = 'BTC/day'\n",
    "\n",
    "print(\"Nicehash data:\\n\")\n",
    "json.loads(calc_df.to_json(orient='index'))\n"
   ]
  }
 ],
 "metadata": {
  "kernelspec": {
   "display_name": "Python 3",
   "language": "python",
   "name": "python3"
  },
  "language_info": {
   "codemirror_mode": {
    "name": "ipython",
    "version": 3
   },
   "file_extension": ".py",
   "mimetype": "text/x-python",
   "name": "python",
   "nbconvert_exporter": "python",
   "pygments_lexer": "ipython3",
   "version": "3.11.2"
  }
 },
 "nbformat": 4,
 "nbformat_minor": 2
}
