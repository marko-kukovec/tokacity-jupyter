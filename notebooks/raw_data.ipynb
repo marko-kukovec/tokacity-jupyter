{
 "cells": [
  {
   "cell_type": "code",
   "execution_count": 3,
   "metadata": {},
   "outputs": [
    {
     "name": "stdout",
     "output_type": "stream",
     "text": [
      "Global coins data:\n",
      "\n",
      "{'tag': 'BCH', 'block_time': 615.0, 'block_reward_btc': 0.010641938843239562, 'difficulty': 375354846492.4, 'nethash': 2621360634276354471, 'daily_emissions_btc': 1.4950626277331678, 'algorithm': 'SHA-256', 'exchange_rate_btc': 0.00340542042983666}\n",
      "{'tag': 'BTC', 'block_time': 656.0, 'block_reward_btc': 3.15763051, 'difficulty': 108105433845147.0, 'nethash': 707788571470728506097, 'daily_emissions_btc': 415.88304278048787, 'algorithm': 'SHA-256', 'exchange_rate_btc': 1}\n",
      "{'tag': 'DOGE', 'block_time': 63.0, 'block_reward_btc': 0.0271, 'difficulty': 30700998.25649904, 'nethash': 2093012435971688, 'daily_emissions_btc': 37.16571428571428, 'algorithm': 'Scrypt', 'exchange_rate_btc': 2.71e-06}\n",
      "{'tag': 'KAS', 'block_time': 0.9988, 'block_reward_btc': 6.545527811985209e-05, 'difficulty': 332763872.3570478, 'nethash': 1430927061537683219, 'daily_emissions_btc': 5.662130586258731, 'algorithm': 'kHeavyHash', 'exchange_rate_btc': 1.0005050342678568e-06}\n",
      "{'tag': 'LTC', 'block_time': 150.0, 'block_reward_btc': 0.00668625, 'difficulty': 74389147.7639597, 'nethash': 2129993045490122, 'daily_emissions_btc': 3.85128, 'algorithm': 'Scrypt', 'exchange_rate_btc': 0.0010698}\n",
      "{'tag': 'RVN', 'block_time': 61.0, 'block_reward_btc': 0.000375, 'difficulty': 97862.73292774626, 'nethash': 6890446515112, 'daily_emissions_btc': 0.5311475409836065, 'algorithm': 'KawPow', 'exchange_rate_btc': 1.5e-07}\n"
     ]
    }
   ],
   "source": [
    "import requests, json\n",
    "from dataclasses import dataclass, asdict\n",
    "\n",
    "coins = { \"BTC\", \"BCH\", \"DOGE\", \"LTC\", \"KAS\", \"RVN\"}\n",
    "api_token = \"8a0b92957b57d4eea9cdf73c4d7436c09c82a38865b84e5b2304b7b5a0202b92\"\n",
    "coins_endpoint = f\"https://whattomine.com/api/v1/coins?api_token={api_token}\"\n",
    "json = requests.get(coins_endpoint).json()\n",
    "\n",
    "@dataclass\n",
    "class WhatToMineData:\n",
    "    tag: str = \"\"\n",
    "    block_time: float = 0\n",
    "    block_reward_btc: float = 0\n",
    "    difficulty: float = 0\n",
    "    nethash: float = 0\n",
    "    daily_emissions_btc: float = 0\n",
    "    algorithm: str = \"\"\n",
    "    exchange_rate_btc: float = 0\n",
    "\n",
    "def toWhatToMineData(json):\n",
    "    data = WhatToMineData()\n",
    "    data.tag = json['tag']\n",
    "    data.block_time = float(json['block_time'])\n",
    "    data.exchange_rate_btc = 1 if data.tag == \"BTC\" else json['exchanges'][0]['price']\n",
    "    data.block_reward_btc = json['block_reward'] * data.exchange_rate_btc\n",
    "    data.difficulty = json['difficulty']\n",
    "    data.nethash = json['nethash']\n",
    "    data.daily_emissions_btc = 86400 / data.block_time * data.block_reward_btc\n",
    "    data.algorithm = json['algorithm']\n",
    "    return data\n",
    "\n",
    "coins_data = [ toWhatToMineData(coin) for coin in json if coin['tag'] in coins ]\n",
    "print(\"Global coins data:\\n\")\n",
    "for coin_data in coins_data:\n",
    "    print(asdict(coin_data))\n"
   ]
  },
  {
   "cell_type": "code",
   "execution_count": 2,
   "metadata": {},
   "outputs": [
    {
     "name": "stdout",
     "output_type": "stream",
     "text": [
      "Nicehash data:\n",
      "\n"
     ]
    },
    {
     "data": {
      "text/plain": [
       "{'SCRYPT': {'hashrate': 90.3741677064,\n",
       "  'hashrate unit': 'TH/s',\n",
       "  'paying': 0.0188176301,\n",
       "  'paying unit': 'BTC/TH/day',\n",
       "  'daily_consumption_capacity': 1.70062766,\n",
       "  'daily_consumption_capacity unit': 'BTC/day'},\n",
       " 'SHA256ASICBOOST': {'hashrate': 6.7502196247,\n",
       "  'hashrate unit': 'EH/s',\n",
       "  'paying': 0.5690439857,\n",
       "  'paying unit': 'BTC/EH/day',\n",
       "  'daily_consumption_capacity': 3.8411718797,\n",
       "  'daily_consumption_capacity unit': 'BTC/day'},\n",
       " 'KAWPOW': {'hashrate': 0.770417096,\n",
       "  'hashrate unit': 'TH/s',\n",
       "  'paying': 0.0773410241,\n",
       "  'paying unit': 'BTC/TH/day',\n",
       "  'daily_consumption_capacity': 0.0595848472,\n",
       "  'daily_consumption_capacity unit': 'BTC/day'},\n",
       " 'KHEAVYHASH': {'hashrate': 55.7007459577,\n",
       "  'hashrate unit': 'PH/s',\n",
       "  'paying': 0.0039135099,\n",
       "  'paying unit': 'BTC/PH/day',\n",
       "  'daily_consumption_capacity': 0.217985423,\n",
       "  'daily_consumption_capacity unit': 'BTC/day'}}"
      ]
     },
     "execution_count": 2,
     "metadata": {},
     "output_type": "execute_result"
    }
   ],
   "source": [
    "import requests, json\n",
    "import pandas as pd\n",
    "\n",
    "algorithms = { \"SCRYPT\", \"SHA256ASICBOOST\", \"KHEAVYHASH\", \"KAWPOW\"}\n",
    "\n",
    "multialgo_response = requests.get('https://api2.nicehash.com/main/api/v2/public/simplemultialgo/info')\n",
    "multialgo_data = multialgo_response.json()\n",
    "algo_data = { element['algorithm']: {'paying': element['paying'], 'speed': element['speed']} for element in multialgo_data['miningAlgorithms'] if element['algorithm'] in algorithms }\n",
    "\n",
    "algorithms_response = requests.get('https://api2.nicehash.com/main/api/v2/mining/algorithms')\n",
    "algorithms_response.raise_for_status()\n",
    "algorithms_data = algorithms_response.json()\n",
    "\n",
    "index = [ element['algorithm'] for element in algorithms_data['miningAlgorithms'] if element['algorithm'] in algorithms ]\n",
    "columns = ['marketFactor', 'displayMarketFactor', 'priceFactor', 'displayPriceFactor', 'miningFactor', 'displayMiningFactor', 'priceDownStep', 'paying', 'speed']\n",
    "data = [ [ float(element['marketFactor']), element['displayMarketFactor'], float(element['priceFactor']), element['displayPriceFactor'], float(element['miningFactor']), element['displayMiningFactor'], float(element['priceDownStep']), algo_data[element['algorithm']]['paying'], algo_data[element['algorithm']]['speed'] ] for element in algorithms_data['miningAlgorithms'] if element['algorithm'] in algorithms ]\n",
    "\n",
    "raw_data_df = pd.DataFrame(data, index=index, columns=columns)\n",
    "\n",
    "calc_df = pd.DataFrame(index=index)\n",
    "sats2btc = 1e8\n",
    "\n",
    "calc_df['hashrate'] = raw_data_df['speed'] / raw_data_df['marketFactor'] * raw_data_df['miningFactor']\n",
    "calc_df['hashrate unit'] = raw_data_df['displayMarketFactor'] + '/s'\n",
    "\n",
    "calc_df['paying'] = raw_data_df['paying'] * raw_data_df['priceFactor'] / sats2btc\n",
    "calc_df['paying unit'] = 'BTC/' + raw_data_df['displayPriceFactor'] + '/day'\n",
    "\n",
    "calc_df['daily_consumption_capacity'] = calc_df['hashrate'] * calc_df['paying']\n",
    "calc_df['daily_consumption_capacity unit'] = 'BTC/day'\n",
    "\n",
    "print(\"Nicehash data:\\n\")\n",
    "json.loads(calc_df.to_json(orient='index'))\n"
   ]
  }
 ],
 "metadata": {
  "kernelspec": {
   "display_name": "Python 3",
   "language": "python",
   "name": "python3"
  },
  "language_info": {
   "codemirror_mode": {
    "name": "ipython",
    "version": 3
   },
   "file_extension": ".py",
   "mimetype": "text/x-python",
   "name": "python",
   "nbconvert_exporter": "python",
   "pygments_lexer": "ipython3",
   "version": "3.11.2"
  }
 },
 "nbformat": 4,
 "nbformat_minor": 2
}
